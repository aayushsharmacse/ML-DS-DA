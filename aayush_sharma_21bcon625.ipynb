{
 "cells": [
  {
   "cell_type": "markdown",
   "id": "daac49b0",
   "metadata": {},
   "source": [
    "#                 Aayush Sharma                 21BCON625                  Section-G      ML assignment-3"
   ]
  },
  {
   "cell_type": "markdown",
   "id": "85461be9",
   "metadata": {},
   "source": [
    "### Write python code for necessary dependencies to import dataset."
   ]
  },
  {
   "cell_type": "code",
   "execution_count": 1,
   "id": "cb3dd79a",
   "metadata": {},
   "outputs": [],
   "source": [
    "import numpy as np\n",
    "import pandas as pd\n",
    "from sklearn.model_selection import train_test_split\n",
    "from sklearn.preprocessing import OneHotEncoder\n",
    "from sklearn.preprocessing import StandardScaler\n",
    "from tensorflow.keras.models import Sequential\n",
    "from tensorflow.keras.layers import Dense\n",
    "from tensorflow.keras import optimizers"
   ]
  },
  {
   "cell_type": "code",
   "execution_count": 2,
   "id": "6e6e09ac",
   "metadata": {},
   "outputs": [],
   "source": [
    "df=pd.read_csv(\"smartphones_cleaned_v6.csv\")"
   ]
  },
  {
   "cell_type": "code",
   "execution_count": 3,
   "id": "2c8a4886",
   "metadata": {},
   "outputs": [
    {
     "data": {
      "text/plain": [
       "(980, 26)"
      ]
     },
     "execution_count": 3,
     "metadata": {},
     "output_type": "execute_result"
    }
   ],
   "source": [
    "df.shape"
   ]
  },
  {
   "cell_type": "code",
   "execution_count": 4,
   "id": "0f9e088a",
   "metadata": {
    "scrolled": true
   },
   "outputs": [
    {
     "data": {
      "text/html": [
       "<div>\n",
       "<style scoped>\n",
       "    .dataframe tbody tr th:only-of-type {\n",
       "        vertical-align: middle;\n",
       "    }\n",
       "\n",
       "    .dataframe tbody tr th {\n",
       "        vertical-align: top;\n",
       "    }\n",
       "\n",
       "    .dataframe thead th {\n",
       "        text-align: right;\n",
       "    }\n",
       "</style>\n",
       "<table border=\"1\" class=\"dataframe\">\n",
       "  <thead>\n",
       "    <tr style=\"text-align: right;\">\n",
       "      <th></th>\n",
       "      <th>brand_name</th>\n",
       "      <th>model</th>\n",
       "      <th>price</th>\n",
       "      <th>rating</th>\n",
       "      <th>has_5g</th>\n",
       "      <th>has_nfc</th>\n",
       "      <th>has_ir_blaster</th>\n",
       "      <th>processor_brand</th>\n",
       "      <th>num_cores</th>\n",
       "      <th>processor_speed</th>\n",
       "      <th>...</th>\n",
       "      <th>refresh_rate</th>\n",
       "      <th>num_rear_cameras</th>\n",
       "      <th>num_front_cameras</th>\n",
       "      <th>os</th>\n",
       "      <th>primary_camera_rear</th>\n",
       "      <th>primary_camera_front</th>\n",
       "      <th>extended_memory_available</th>\n",
       "      <th>extended_upto</th>\n",
       "      <th>resolution_width</th>\n",
       "      <th>resolution_height</th>\n",
       "    </tr>\n",
       "  </thead>\n",
       "  <tbody>\n",
       "    <tr>\n",
       "      <th>0</th>\n",
       "      <td>oneplus</td>\n",
       "      <td>OnePlus 11 5G</td>\n",
       "      <td>54999</td>\n",
       "      <td>89.0</td>\n",
       "      <td>True</td>\n",
       "      <td>True</td>\n",
       "      <td>False</td>\n",
       "      <td>snapdragon</td>\n",
       "      <td>8.0</td>\n",
       "      <td>3.2</td>\n",
       "      <td>...</td>\n",
       "      <td>120</td>\n",
       "      <td>3</td>\n",
       "      <td>1.0</td>\n",
       "      <td>android</td>\n",
       "      <td>50.0</td>\n",
       "      <td>16.0</td>\n",
       "      <td>0</td>\n",
       "      <td>NaN</td>\n",
       "      <td>1440</td>\n",
       "      <td>3216</td>\n",
       "    </tr>\n",
       "    <tr>\n",
       "      <th>1</th>\n",
       "      <td>oneplus</td>\n",
       "      <td>OnePlus Nord CE 2 Lite 5G</td>\n",
       "      <td>19989</td>\n",
       "      <td>81.0</td>\n",
       "      <td>True</td>\n",
       "      <td>False</td>\n",
       "      <td>False</td>\n",
       "      <td>snapdragon</td>\n",
       "      <td>8.0</td>\n",
       "      <td>2.2</td>\n",
       "      <td>...</td>\n",
       "      <td>120</td>\n",
       "      <td>3</td>\n",
       "      <td>1.0</td>\n",
       "      <td>android</td>\n",
       "      <td>64.0</td>\n",
       "      <td>16.0</td>\n",
       "      <td>1</td>\n",
       "      <td>1024.0</td>\n",
       "      <td>1080</td>\n",
       "      <td>2412</td>\n",
       "    </tr>\n",
       "    <tr>\n",
       "      <th>2</th>\n",
       "      <td>samsung</td>\n",
       "      <td>Samsung Galaxy A14 5G</td>\n",
       "      <td>16499</td>\n",
       "      <td>75.0</td>\n",
       "      <td>True</td>\n",
       "      <td>False</td>\n",
       "      <td>False</td>\n",
       "      <td>exynos</td>\n",
       "      <td>8.0</td>\n",
       "      <td>2.4</td>\n",
       "      <td>...</td>\n",
       "      <td>90</td>\n",
       "      <td>3</td>\n",
       "      <td>1.0</td>\n",
       "      <td>android</td>\n",
       "      <td>50.0</td>\n",
       "      <td>13.0</td>\n",
       "      <td>1</td>\n",
       "      <td>1024.0</td>\n",
       "      <td>1080</td>\n",
       "      <td>2408</td>\n",
       "    </tr>\n",
       "    <tr>\n",
       "      <th>3</th>\n",
       "      <td>motorola</td>\n",
       "      <td>Motorola Moto G62 5G</td>\n",
       "      <td>14999</td>\n",
       "      <td>81.0</td>\n",
       "      <td>True</td>\n",
       "      <td>False</td>\n",
       "      <td>False</td>\n",
       "      <td>snapdragon</td>\n",
       "      <td>8.0</td>\n",
       "      <td>2.2</td>\n",
       "      <td>...</td>\n",
       "      <td>120</td>\n",
       "      <td>3</td>\n",
       "      <td>1.0</td>\n",
       "      <td>android</td>\n",
       "      <td>50.0</td>\n",
       "      <td>16.0</td>\n",
       "      <td>1</td>\n",
       "      <td>1024.0</td>\n",
       "      <td>1080</td>\n",
       "      <td>2400</td>\n",
       "    </tr>\n",
       "    <tr>\n",
       "      <th>4</th>\n",
       "      <td>realme</td>\n",
       "      <td>Realme 10 Pro Plus</td>\n",
       "      <td>24999</td>\n",
       "      <td>82.0</td>\n",
       "      <td>True</td>\n",
       "      <td>False</td>\n",
       "      <td>False</td>\n",
       "      <td>dimensity</td>\n",
       "      <td>8.0</td>\n",
       "      <td>2.6</td>\n",
       "      <td>...</td>\n",
       "      <td>120</td>\n",
       "      <td>3</td>\n",
       "      <td>1.0</td>\n",
       "      <td>android</td>\n",
       "      <td>108.0</td>\n",
       "      <td>16.0</td>\n",
       "      <td>0</td>\n",
       "      <td>NaN</td>\n",
       "      <td>1080</td>\n",
       "      <td>2412</td>\n",
       "    </tr>\n",
       "  </tbody>\n",
       "</table>\n",
       "<p>5 rows × 26 columns</p>\n",
       "</div>"
      ],
      "text/plain": [
       "  brand_name                      model  price  rating  has_5g  has_nfc  \\\n",
       "0    oneplus              OnePlus 11 5G  54999    89.0    True     True   \n",
       "1    oneplus  OnePlus Nord CE 2 Lite 5G  19989    81.0    True    False   \n",
       "2    samsung      Samsung Galaxy A14 5G  16499    75.0    True    False   \n",
       "3   motorola       Motorola Moto G62 5G  14999    81.0    True    False   \n",
       "4     realme         Realme 10 Pro Plus  24999    82.0    True    False   \n",
       "\n",
       "   has_ir_blaster processor_brand  num_cores processor_speed  ...  \\\n",
       "0           False      snapdragon        8.0             3.2  ...   \n",
       "1           False      snapdragon        8.0             2.2  ...   \n",
       "2           False          exynos        8.0             2.4  ...   \n",
       "3           False      snapdragon        8.0             2.2  ...   \n",
       "4           False       dimensity        8.0             2.6  ...   \n",
       "\n",
       "  refresh_rate  num_rear_cameras  num_front_cameras       os  \\\n",
       "0          120                 3                1.0  android   \n",
       "1          120                 3                1.0  android   \n",
       "2           90                 3                1.0  android   \n",
       "3          120                 3                1.0  android   \n",
       "4          120                 3                1.0  android   \n",
       "\n",
       "  primary_camera_rear  primary_camera_front  extended_memory_available  \\\n",
       "0                50.0                  16.0                          0   \n",
       "1                64.0                  16.0                          1   \n",
       "2                50.0                  13.0                          1   \n",
       "3                50.0                  16.0                          1   \n",
       "4               108.0                  16.0                          0   \n",
       "\n",
       "   extended_upto  resolution_width resolution_height  \n",
       "0            NaN              1440              3216  \n",
       "1         1024.0              1080              2412  \n",
       "2         1024.0              1080              2408  \n",
       "3         1024.0              1080              2400  \n",
       "4            NaN              1080              2412  \n",
       "\n",
       "[5 rows x 26 columns]"
      ]
     },
     "execution_count": 4,
     "metadata": {},
     "output_type": "execute_result"
    }
   ],
   "source": [
    "df.head(5)"
   ]
  },
  {
   "cell_type": "markdown",
   "id": "175dff8c",
   "metadata": {},
   "source": [
    "### Write python code to check the datatype of all the columns present in the dataset."
   ]
  },
  {
   "cell_type": "code",
   "execution_count": 5,
   "id": "1eeaf239",
   "metadata": {},
   "outputs": [
    {
     "name": "stdout",
     "output_type": "stream",
     "text": [
      "<class 'pandas.core.frame.DataFrame'>\n",
      "RangeIndex: 980 entries, 0 to 979\n",
      "Data columns (total 26 columns):\n",
      " #   Column                     Non-Null Count  Dtype  \n",
      "---  ------                     --------------  -----  \n",
      " 0   brand_name                 980 non-null    object \n",
      " 1   model                      980 non-null    object \n",
      " 2   price                      980 non-null    int64  \n",
      " 3   rating                     879 non-null    float64\n",
      " 4   has_5g                     980 non-null    bool   \n",
      " 5   has_nfc                    980 non-null    bool   \n",
      " 6   has_ir_blaster             980 non-null    bool   \n",
      " 7   processor_brand            960 non-null    object \n",
      " 8   num_cores                  974 non-null    float64\n",
      " 9   processor_speed            938 non-null    object \n",
      " 10  battery_capacity           969 non-null    object \n",
      " 11  fast_charging_available    980 non-null    int64  \n",
      " 12  fast_charging              769 non-null    float64\n",
      " 13  ram_capacity               980 non-null    int64  \n",
      " 14  internal_memory            980 non-null    object \n",
      " 15  screen_size                980 non-null    float64\n",
      " 16  refresh_rate               980 non-null    int64  \n",
      " 17  num_rear_cameras           980 non-null    int64  \n",
      " 18  num_front_cameras          976 non-null    float64\n",
      " 19  os                         966 non-null    object \n",
      " 20  primary_camera_rear        980 non-null    float64\n",
      " 21  primary_camera_front       975 non-null    float64\n",
      " 22  extended_memory_available  980 non-null    int64  \n",
      " 23  extended_upto              500 non-null    float64\n",
      " 24  resolution_width           980 non-null    int64  \n",
      " 25  resolution_height          980 non-null    int64  \n",
      "dtypes: bool(3), float64(8), int64(8), object(7)\n",
      "memory usage: 179.1+ KB\n"
     ]
    }
   ],
   "source": [
    "df.info()"
   ]
  },
  {
   "cell_type": "markdown",
   "id": "90fa8b05",
   "metadata": {},
   "source": [
    "### Write python code to view the all the statistical measure in the dataset."
   ]
  },
  {
   "cell_type": "code",
   "execution_count": 6,
   "id": "6e06d931",
   "metadata": {
    "scrolled": true
   },
   "outputs": [
    {
     "data": {
      "text/html": [
       "<div>\n",
       "<style scoped>\n",
       "    .dataframe tbody tr th:only-of-type {\n",
       "        vertical-align: middle;\n",
       "    }\n",
       "\n",
       "    .dataframe tbody tr th {\n",
       "        vertical-align: top;\n",
       "    }\n",
       "\n",
       "    .dataframe thead th {\n",
       "        text-align: right;\n",
       "    }\n",
       "</style>\n",
       "<table border=\"1\" class=\"dataframe\">\n",
       "  <thead>\n",
       "    <tr style=\"text-align: right;\">\n",
       "      <th></th>\n",
       "      <th>price</th>\n",
       "      <th>rating</th>\n",
       "      <th>num_cores</th>\n",
       "      <th>fast_charging_available</th>\n",
       "      <th>fast_charging</th>\n",
       "      <th>ram_capacity</th>\n",
       "      <th>screen_size</th>\n",
       "      <th>refresh_rate</th>\n",
       "      <th>num_rear_cameras</th>\n",
       "      <th>num_front_cameras</th>\n",
       "      <th>primary_camera_rear</th>\n",
       "      <th>primary_camera_front</th>\n",
       "      <th>extended_memory_available</th>\n",
       "      <th>extended_upto</th>\n",
       "      <th>resolution_width</th>\n",
       "      <th>resolution_height</th>\n",
       "    </tr>\n",
       "  </thead>\n",
       "  <tbody>\n",
       "    <tr>\n",
       "      <th>count</th>\n",
       "      <td>980.000000</td>\n",
       "      <td>879.000000</td>\n",
       "      <td>974.000000</td>\n",
       "      <td>980.000000</td>\n",
       "      <td>769.000000</td>\n",
       "      <td>980.000000</td>\n",
       "      <td>980.000000</td>\n",
       "      <td>980.000000</td>\n",
       "      <td>980.000000</td>\n",
       "      <td>976.000000</td>\n",
       "      <td>980.000000</td>\n",
       "      <td>975.000000</td>\n",
       "      <td>980.000000</td>\n",
       "      <td>500.000000</td>\n",
       "      <td>980.000000</td>\n",
       "      <td>980.000000</td>\n",
       "    </tr>\n",
       "    <tr>\n",
       "      <th>mean</th>\n",
       "      <td>32520.504082</td>\n",
       "      <td>78.258248</td>\n",
       "      <td>7.772074</td>\n",
       "      <td>0.854082</td>\n",
       "      <td>46.126138</td>\n",
       "      <td>6.560204</td>\n",
       "      <td>6.536765</td>\n",
       "      <td>92.256122</td>\n",
       "      <td>2.814286</td>\n",
       "      <td>1.029713</td>\n",
       "      <td>50.319286</td>\n",
       "      <td>16.589128</td>\n",
       "      <td>0.630612</td>\n",
       "      <td>736.064000</td>\n",
       "      <td>1075.852041</td>\n",
       "      <td>2214.663265</td>\n",
       "    </tr>\n",
       "    <tr>\n",
       "      <th>std</th>\n",
       "      <td>39531.812669</td>\n",
       "      <td>7.402854</td>\n",
       "      <td>0.836845</td>\n",
       "      <td>0.353205</td>\n",
       "      <td>34.277870</td>\n",
       "      <td>2.744378</td>\n",
       "      <td>0.349162</td>\n",
       "      <td>28.988052</td>\n",
       "      <td>0.776441</td>\n",
       "      <td>0.169882</td>\n",
       "      <td>33.000968</td>\n",
       "      <td>10.876802</td>\n",
       "      <td>0.482885</td>\n",
       "      <td>366.894911</td>\n",
       "      <td>290.164931</td>\n",
       "      <td>516.484254</td>\n",
       "    </tr>\n",
       "    <tr>\n",
       "      <th>min</th>\n",
       "      <td>3499.000000</td>\n",
       "      <td>60.000000</td>\n",
       "      <td>4.000000</td>\n",
       "      <td>0.000000</td>\n",
       "      <td>10.000000</td>\n",
       "      <td>1.000000</td>\n",
       "      <td>3.540000</td>\n",
       "      <td>60.000000</td>\n",
       "      <td>1.000000</td>\n",
       "      <td>1.000000</td>\n",
       "      <td>2.000000</td>\n",
       "      <td>0.300000</td>\n",
       "      <td>0.000000</td>\n",
       "      <td>32.000000</td>\n",
       "      <td>480.000000</td>\n",
       "      <td>480.000000</td>\n",
       "    </tr>\n",
       "    <tr>\n",
       "      <th>25%</th>\n",
       "      <td>12999.000000</td>\n",
       "      <td>74.000000</td>\n",
       "      <td>8.000000</td>\n",
       "      <td>1.000000</td>\n",
       "      <td>18.000000</td>\n",
       "      <td>4.000000</td>\n",
       "      <td>6.500000</td>\n",
       "      <td>60.000000</td>\n",
       "      <td>2.000000</td>\n",
       "      <td>1.000000</td>\n",
       "      <td>24.000000</td>\n",
       "      <td>8.000000</td>\n",
       "      <td>0.000000</td>\n",
       "      <td>512.000000</td>\n",
       "      <td>1080.000000</td>\n",
       "      <td>1612.000000</td>\n",
       "    </tr>\n",
       "    <tr>\n",
       "      <th>50%</th>\n",
       "      <td>19994.500000</td>\n",
       "      <td>80.000000</td>\n",
       "      <td>8.000000</td>\n",
       "      <td>1.000000</td>\n",
       "      <td>33.000000</td>\n",
       "      <td>6.000000</td>\n",
       "      <td>6.580000</td>\n",
       "      <td>90.000000</td>\n",
       "      <td>3.000000</td>\n",
       "      <td>1.000000</td>\n",
       "      <td>50.000000</td>\n",
       "      <td>16.000000</td>\n",
       "      <td>1.000000</td>\n",
       "      <td>1024.000000</td>\n",
       "      <td>1080.000000</td>\n",
       "      <td>2400.000000</td>\n",
       "    </tr>\n",
       "    <tr>\n",
       "      <th>75%</th>\n",
       "      <td>35491.500000</td>\n",
       "      <td>84.000000</td>\n",
       "      <td>8.000000</td>\n",
       "      <td>1.000000</td>\n",
       "      <td>66.000000</td>\n",
       "      <td>8.000000</td>\n",
       "      <td>6.670000</td>\n",
       "      <td>120.000000</td>\n",
       "      <td>3.000000</td>\n",
       "      <td>1.000000</td>\n",
       "      <td>64.000000</td>\n",
       "      <td>16.000000</td>\n",
       "      <td>1.000000</td>\n",
       "      <td>1024.000000</td>\n",
       "      <td>1080.000000</td>\n",
       "      <td>2408.000000</td>\n",
       "    </tr>\n",
       "    <tr>\n",
       "      <th>max</th>\n",
       "      <td>650000.000000</td>\n",
       "      <td>89.000000</td>\n",
       "      <td>8.000000</td>\n",
       "      <td>1.000000</td>\n",
       "      <td>240.000000</td>\n",
       "      <td>18.000000</td>\n",
       "      <td>8.030000</td>\n",
       "      <td>240.000000</td>\n",
       "      <td>4.000000</td>\n",
       "      <td>2.000000</td>\n",
       "      <td>200.000000</td>\n",
       "      <td>60.000000</td>\n",
       "      <td>1.000000</td>\n",
       "      <td>2048.000000</td>\n",
       "      <td>2460.000000</td>\n",
       "      <td>3840.000000</td>\n",
       "    </tr>\n",
       "  </tbody>\n",
       "</table>\n",
       "</div>"
      ],
      "text/plain": [
       "               price      rating   num_cores  fast_charging_available  \\\n",
       "count     980.000000  879.000000  974.000000               980.000000   \n",
       "mean    32520.504082   78.258248    7.772074                 0.854082   \n",
       "std     39531.812669    7.402854    0.836845                 0.353205   \n",
       "min      3499.000000   60.000000    4.000000                 0.000000   \n",
       "25%     12999.000000   74.000000    8.000000                 1.000000   \n",
       "50%     19994.500000   80.000000    8.000000                 1.000000   \n",
       "75%     35491.500000   84.000000    8.000000                 1.000000   \n",
       "max    650000.000000   89.000000    8.000000                 1.000000   \n",
       "\n",
       "       fast_charging  ram_capacity  screen_size  refresh_rate  \\\n",
       "count     769.000000    980.000000   980.000000    980.000000   \n",
       "mean       46.126138      6.560204     6.536765     92.256122   \n",
       "std        34.277870      2.744378     0.349162     28.988052   \n",
       "min        10.000000      1.000000     3.540000     60.000000   \n",
       "25%        18.000000      4.000000     6.500000     60.000000   \n",
       "50%        33.000000      6.000000     6.580000     90.000000   \n",
       "75%        66.000000      8.000000     6.670000    120.000000   \n",
       "max       240.000000     18.000000     8.030000    240.000000   \n",
       "\n",
       "       num_rear_cameras  num_front_cameras  primary_camera_rear  \\\n",
       "count        980.000000         976.000000           980.000000   \n",
       "mean           2.814286           1.029713            50.319286   \n",
       "std            0.776441           0.169882            33.000968   \n",
       "min            1.000000           1.000000             2.000000   \n",
       "25%            2.000000           1.000000            24.000000   \n",
       "50%            3.000000           1.000000            50.000000   \n",
       "75%            3.000000           1.000000            64.000000   \n",
       "max            4.000000           2.000000           200.000000   \n",
       "\n",
       "       primary_camera_front  extended_memory_available  extended_upto  \\\n",
       "count            975.000000                 980.000000     500.000000   \n",
       "mean              16.589128                   0.630612     736.064000   \n",
       "std               10.876802                   0.482885     366.894911   \n",
       "min                0.300000                   0.000000      32.000000   \n",
       "25%                8.000000                   0.000000     512.000000   \n",
       "50%               16.000000                   1.000000    1024.000000   \n",
       "75%               16.000000                   1.000000    1024.000000   \n",
       "max               60.000000                   1.000000    2048.000000   \n",
       "\n",
       "       resolution_width  resolution_height  \n",
       "count        980.000000         980.000000  \n",
       "mean        1075.852041        2214.663265  \n",
       "std          290.164931         516.484254  \n",
       "min          480.000000         480.000000  \n",
       "25%         1080.000000        1612.000000  \n",
       "50%         1080.000000        2400.000000  \n",
       "75%         1080.000000        2408.000000  \n",
       "max         2460.000000        3840.000000  "
      ]
     },
     "execution_count": 6,
     "metadata": {},
     "output_type": "execute_result"
    }
   ],
   "source": [
    "df.describe()"
   ]
  },
  {
   "cell_type": "code",
   "execution_count": 7,
   "id": "72eb8b29",
   "metadata": {},
   "outputs": [
    {
     "data": {
      "text/plain": [
       "array(['itel', 'sony', 'asus', 'nubia', 'nothing', 'lava', 'jio',\n",
       "       'gionee', 'micromax', 'oukitel', 'lg', 'redmi', 'letv', 'ikall',\n",
       "       'royole', 'doogee', 'zte', 'lenovo', 'lyf', 'sharp', 'tcl', 'cat',\n",
       "       'leitz', 'duoqin', 'leeco', 'blu', 'vertu', 'tesla', 'cola',\n",
       "       'blackview'], dtype=object)"
      ]
     },
     "execution_count": 7,
     "metadata": {},
     "output_type": "execute_result"
    }
   ],
   "source": [
    "x=df[\"brand_name\"].value_counts()[(df[\"brand_name\"].value_counts()<=10)]\n",
    "other_brands=x.index\n",
    "np.array(other_brands)"
   ]
  },
  {
   "cell_type": "code",
   "execution_count": 8,
   "id": "5dce2795",
   "metadata": {},
   "outputs": [],
   "source": [
    "#(list comp topic net)\n",
    "df[\"brand_name\"]=[i if i not in other_brands else \"others\" for i in df[\"brand_name\"] ]"
   ]
  },
  {
   "cell_type": "code",
   "execution_count": 9,
   "id": "2df7d28d",
   "metadata": {},
   "outputs": [
    {
     "data": {
      "text/plain": [
       "xiaomi      134\n",
       "samsung     132\n",
       "vivo        111\n",
       "realme       97\n",
       "oppo         88\n",
       "others       87\n",
       "motorola     52\n",
       "apple        46\n",
       "oneplus      42\n",
       "poco         41\n",
       "tecno        33\n",
       "iqoo         32\n",
       "infinix      29\n",
       "huawei       16\n",
       "google       14\n",
       "nokia        13\n",
       "honor        13\n",
       "Name: brand_name, dtype: int64"
      ]
     },
     "execution_count": 9,
     "metadata": {},
     "output_type": "execute_result"
    }
   ],
   "source": [
    "df[\"brand_name\"].value_counts()"
   ]
  },
  {
   "cell_type": "code",
   "execution_count": 10,
   "id": "81ad96f6",
   "metadata": {
    "scrolled": true
   },
   "outputs": [
    {
     "data": {
      "text/plain": [
       "2       144\n",
       "2.2     135\n",
       "2.4     127\n",
       "3.2      94\n",
       "2.3      86\n",
       "3        53\n",
       "2.84     36\n",
       "2.05     28\n",
       "1.8      23\n",
       "2.5      22\n",
       "1.6      20\n",
       "2.85     19\n",
       "3.22     17\n",
       "3.1      15\n",
       "2.6      14\n",
       "2.9      13\n",
       "1.82     10\n",
       "1.3      10\n",
       "2.73      9\n",
       "2.8       9\n",
       "3.05      8\n",
       "2.36      8\n",
       "1.4       5\n",
       "2.65      5\n",
       "          5\n",
       "2.7       5\n",
       "1.5       4\n",
       "2.96      3\n",
       "2.86      3\n",
       "3.13      2\n",
       "2.35      1\n",
       "2.37      1\n",
       "1.99      1\n",
       "1.95      1\n",
       "2.1       1\n",
       "1.2       1\n",
       "Name: processor_speed, dtype: int64"
      ]
     },
     "execution_count": 10,
     "metadata": {},
     "output_type": "execute_result"
    }
   ],
   "source": [
    "df[\"processor_speed\"].value_counts()"
   ]
  },
  {
   "cell_type": "code",
   "execution_count": 11,
   "id": "1a334098",
   "metadata": {},
   "outputs": [],
   "source": [
    "df=df.replace(\" \",np.NaN)"
   ]
  },
  {
   "cell_type": "code",
   "execution_count": 12,
   "id": "19288b97",
   "metadata": {
    "scrolled": true
   },
   "outputs": [],
   "source": [
    "df=df.astype({\"processor_speed\":\"float32\",\"battery_capacity\":\"float64\",\"internal_memory\":\"float64\"})"
   ]
  },
  {
   "cell_type": "markdown",
   "id": "bdfb34f7",
   "metadata": {},
   "source": [
    "### Write python code to check the null value present in the in the dataset."
   ]
  },
  {
   "cell_type": "code",
   "execution_count": 13,
   "id": "1e1b5032",
   "metadata": {},
   "outputs": [
    {
     "name": "stdout",
     "output_type": "stream",
     "text": [
      "brand_name                     0\n",
      "model                          0\n",
      "price                          0\n",
      "rating                       101\n",
      "has_5g                         0\n",
      "has_nfc                        0\n",
      "has_ir_blaster                 0\n",
      "processor_brand               20\n",
      "num_cores                      6\n",
      "processor_speed               47\n",
      "battery_capacity              16\n",
      "fast_charging_available        0\n",
      "fast_charging                211\n",
      "ram_capacity                   0\n",
      "internal_memory               18\n",
      "screen_size                    0\n",
      "refresh_rate                   0\n",
      "num_rear_cameras               0\n",
      "num_front_cameras              4\n",
      "os                            14\n",
      "primary_camera_rear            0\n",
      "primary_camera_front           5\n",
      "extended_memory_available      0\n",
      "extended_upto                480\n",
      "resolution_width               0\n",
      "resolution_height              0\n",
      "dtype: int64\n"
     ]
    }
   ],
   "source": [
    "print(df.isna().sum())"
   ]
  },
  {
   "cell_type": "code",
   "execution_count": 14,
   "id": "5d07dbfb",
   "metadata": {},
   "outputs": [],
   "source": [
    "df=df.drop(columns=[\"extended_upto\",\"model\"],axis=1)"
   ]
  },
  {
   "cell_type": "code",
   "execution_count": 15,
   "id": "c9d9938f",
   "metadata": {},
   "outputs": [],
   "source": [
    "df[\"rating\"]=df[\"rating\"].fillna(df[\"rating\"].mean())\n",
    "df[\"processor_brand\"]=df[\"processor_brand\"].fillna(df[\"processor_brand\"].mode()[0])\n",
    "df[\"num_cores\"]=df[\"num_cores\"].fillna(df[\"num_cores\"].mode()[0])\n",
    "df[\"processor_speed\"]=df[\"processor_speed\"].fillna(df[\"processor_speed\"].mean())\n",
    "df[\"battery_capacity\"]=df[\"battery_capacity\"].fillna(df[\"battery_capacity\"].mean())\n",
    "df[\"fast_charging\"]=df[\"fast_charging\"].fillna(df[\"fast_charging\"].mode()[0])\n",
    "df[\"num_front_cameras\"]=df[\"num_front_cameras\"].fillna(df[\"num_front_cameras\"].mode()[0])\n",
    "df[\"os\"]=df[\"os\"].fillna(df[\"os\"].mode()[0])\n",
    "df[\"primary_camera_front\"]=df[\"primary_camera_front\"].fillna(df[\"primary_camera_front\"].mean())\n",
    "df[\"internal_memory\"]=df[\"internal_memory\"].fillna(df[\"internal_memory\"].mean())"
   ]
  },
  {
   "cell_type": "code",
   "execution_count": 16,
   "id": "cd8e4439",
   "metadata": {},
   "outputs": [
    {
     "data": {
      "text/plain": [
       "0"
      ]
     },
     "execution_count": 16,
     "metadata": {},
     "output_type": "execute_result"
    }
   ],
   "source": [
    "df.isna().sum().sum()"
   ]
  },
  {
   "cell_type": "markdown",
   "id": "10a43b36",
   "metadata": {},
   "source": [
    "### What are dependent and independent feature? Write python code to separate them in the given dataset."
   ]
  },
  {
   "cell_type": "markdown",
   "id": "09734b27",
   "metadata": {},
   "source": [
    "Independent Features (also known as predictors or inputs) are the variables that are used to predict or explain the outcome (dependent variable). They do not change in response to the dependent variable.\n",
    "\n",
    "Dependent Features (also known as targets or outputs) are the variables that are being predicted or explained. They are influenced by the independent variables."
   ]
  },
  {
   "cell_type": "code",
   "execution_count": 17,
   "id": "a350ab71",
   "metadata": {},
   "outputs": [],
   "source": [
    "x=df.drop(columns=[\"price\"],axis=1)\n",
    "y=df[\"price\"]"
   ]
  },
  {
   "cell_type": "markdown",
   "id": "73ce4bc2",
   "metadata": {},
   "source": [
    "### How do you split dataset into train and test dataset? Explain the role of random state parameter in the splitting operation."
   ]
  },
  {
   "cell_type": "markdown",
   "id": "0d902663",
   "metadata": {},
   "source": [
    "Splitting the dataset into train and test sets allows for evaluating the model's performance on unseen data. Random state ensures consistent splits across different runs."
   ]
  },
  {
   "cell_type": "code",
   "execution_count": 18,
   "id": "bbad1fc1",
   "metadata": {},
   "outputs": [],
   "source": [
    "x_train,x_test,y_train,y_test=train_test_split(x,y,test_size=0.2,random_state=42)"
   ]
  },
  {
   "cell_type": "markdown",
   "id": "48785850",
   "metadata": {},
   "source": [
    "### What do you mean by one hot encoding? Select the necessary feature in the dataset and perform encoding transformation."
   ]
  },
  {
   "cell_type": "markdown",
   "id": "df2eff93",
   "metadata": {},
   "source": [
    "One-hot encoding is a technique used to represent categorical variables as binary vectors. Each category is represented by a unique binary vector, where the corresponding element in the vector is 1 and the rest are 0. This allows machine learning algorithms to process categorical data."
   ]
  },
  {
   "cell_type": "code",
   "execution_count": 19,
   "id": "4751a9df",
   "metadata": {},
   "outputs": [
    {
     "name": "stderr",
     "output_type": "stream",
     "text": [
      "C:\\Users\\Admin\\anaconda3\\Lib\\site-packages\\sklearn\\preprocessing\\_encoders.py:972: FutureWarning: `sparse` was renamed to `sparse_output` in version 1.2 and will be removed in 1.4. `sparse_output` is ignored unless you leave `sparse` to its default value.\n",
      "  warnings.warn(\n"
     ]
    }
   ],
   "source": [
    "ohe=OneHotEncoder(drop='first',sparse=False)\n",
    "x_train_new=ohe.fit_transform(x_train[[\"brand_name\",\"has_5g\",\"has_nfc\",\"has_ir_blaster\",\"processor_brand\",\"os\"]])\n",
    "x_test_new=ohe.transform(x_test[[\"brand_name\",\"has_5g\",\"has_nfc\",\"has_ir_blaster\",\"processor_brand\",\"os\"]])\n",
    "\n",
    "x_train_new=np.hstack((x_train[[\"rating\",\"num_cores\",\"processor_speed\",\"battery_capacity\",\n",
    "                               \"fast_charging_available\",\"fast_charging\",\"ram_capacity\",'internal_memory',\"screen_size\",\n",
    "                               'refresh_rate','num_rear_cameras','num_front_cameras','primary_camera_rear','primary_camera_front'\n",
    "                               ,'extended_memory_available','resolution_width','resolution_height'\n",
    "                              ]].values,x_train_new))\n",
    "\n",
    "x_test_new=np.hstack((x_test[[\"rating\",\"num_cores\",\"processor_speed\",\"battery_capacity\",\n",
    "                               \"fast_charging_available\",\"fast_charging\",\"ram_capacity\",'internal_memory',\"screen_size\",\n",
    "                               'refresh_rate','num_rear_cameras','num_front_cameras','primary_camera_rear','primary_camera_front'\n",
    "                               ,'extended_memory_available','resolution_width','resolution_height'\n",
    "                              ]].values,x_test_new))"
   ]
  },
  {
   "cell_type": "markdown",
   "id": "d809b4e6",
   "metadata": {},
   "source": [
    "### Why do we perform feature scaling? Write necessary python code to perform feature scaling (standardization/normalization)."
   ]
  },
  {
   "cell_type": "markdown",
   "id": "eadeb3e2",
   "metadata": {},
   "source": [
    "Feature scaling is a technique used to normalize the range of features to a similar scale. This is often done to improve the performance of machine learning algorithms, as some algorithms are sensitive to the scale of the features."
   ]
  },
  {
   "cell_type": "code",
   "execution_count": 20,
   "id": "9161a57d",
   "metadata": {},
   "outputs": [
    {
     "data": {
      "text/plain": [
       "(784, 50)"
      ]
     },
     "execution_count": 20,
     "metadata": {},
     "output_type": "execute_result"
    }
   ],
   "source": [
    "st=StandardScaler()\n",
    "x_train_trf=st.fit_transform(x_train_new)\n",
    "x_test_trf=st.transform(x_test_new)\n",
    "x_train_trf.shape"
   ]
  },
  {
   "cell_type": "markdown",
   "id": "e735da9a",
   "metadata": {},
   "source": [
    "### What is deep learning? Build a artificial neural network for price prediction of mobile phones."
   ]
  },
  {
   "cell_type": "markdown",
   "id": "136c958f",
   "metadata": {},
   "source": [
    "Deep learning involves artificial neural networks (ANNs) to learn complex patterns from data. ANNs consist of interconnected layers of neurons that process and transform information."
   ]
  },
  {
   "cell_type": "code",
   "execution_count": 21,
   "id": "e5e17d3d",
   "metadata": {},
   "outputs": [
    {
     "name": "stdout",
     "output_type": "stream",
     "text": [
      "Model: \"sequential\"\n",
      "_________________________________________________________________\n",
      " Layer (type)                Output Shape              Param #   \n",
      "=================================================================\n",
      " dense (Dense)               (None, 50)                2550      \n",
      "                                                                 \n",
      " dense_1 (Dense)             (None, 10)                510       \n",
      "                                                                 \n",
      " dense_2 (Dense)             (None, 5)                 55        \n",
      "                                                                 \n",
      " dense_3 (Dense)             (None, 1)                 6         \n",
      "                                                                 \n",
      "=================================================================\n",
      "Total params: 3121 (12.19 KB)\n",
      "Trainable params: 3121 (12.19 KB)\n",
      "Non-trainable params: 0 (0.00 Byte)\n",
      "_________________________________________________________________\n"
     ]
    }
   ],
   "source": [
    "model=Sequential()\n",
    "model.add(Dense(50,activation=\"relu\",input_dim=50))\n",
    "model.add(Dense(10,activation=\"relu\"))\n",
    "model.add(Dense(5,activation=\"relu\"))\n",
    "model.add(Dense(1))\n",
    "model.summary()"
   ]
  },
  {
   "cell_type": "markdown",
   "id": "756b97d6",
   "metadata": {},
   "source": [
    "### How do you set the learning rate and optimizers in deep learning model?"
   ]
  },
  {
   "cell_type": "code",
   "execution_count": 22,
   "id": "3117904d",
   "metadata": {},
   "outputs": [],
   "source": [
    "# Create an Adam optimizer with a custom learning rate\n",
    "custom_optimizer = optimizers.Adam(learning_rate=0.1)\n",
    "model.compile(optimizer=custom_optimizer,loss=\"mean_absolute_error\", metrics=['mae'])\n",
    "# model.compile(optimizer=\"Adam\",loss=\"mean_absolute_error\")"
   ]
  },
  {
   "cell_type": "code",
   "execution_count": 23,
   "id": "4530ad70",
   "metadata": {},
   "outputs": [
    {
     "name": "stdout",
     "output_type": "stream",
     "text": [
      "Epoch 1/10\n",
      "13/13 [==============================] - 2s 36ms/step - loss: 30417.5117 - mae: 30417.5117 - val_loss: 31341.3145 - val_mae: 31341.3125\n",
      "Epoch 2/10\n",
      "13/13 [==============================] - 0s 9ms/step - loss: 18603.6172 - mae: 18603.6172 - val_loss: 17451.1328 - val_mae: 17451.1328\n",
      "Epoch 3/10\n",
      "13/13 [==============================] - 0s 8ms/step - loss: 11103.7373 - mae: 11103.7373 - val_loss: 13594.4697 - val_mae: 13594.4697\n",
      "Epoch 4/10\n",
      "13/13 [==============================] - 0s 10ms/step - loss: 8747.1465 - mae: 8747.1465 - val_loss: 12603.7344 - val_mae: 12603.7344\n",
      "Epoch 5/10\n",
      "13/13 [==============================] - 0s 9ms/step - loss: 7874.6836 - mae: 7874.6836 - val_loss: 12641.9375 - val_mae: 12641.9375\n",
      "Epoch 6/10\n",
      "13/13 [==============================] - 0s 8ms/step - loss: 7518.2417 - mae: 7518.2417 - val_loss: 12116.2607 - val_mae: 12116.2607\n",
      "Epoch 7/10\n",
      "13/13 [==============================] - 0s 9ms/step - loss: 7057.0249 - mae: 7057.0249 - val_loss: 11454.4033 - val_mae: 11454.4033\n",
      "Epoch 8/10\n",
      "13/13 [==============================] - 0s 8ms/step - loss: 6951.9897 - mae: 6951.9897 - val_loss: 11198.4404 - val_mae: 11198.4404\n",
      "Epoch 9/10\n",
      "13/13 [==============================] - 0s 7ms/step - loss: 6840.7056 - mae: 6840.7056 - val_loss: 11083.4648 - val_mae: 11083.4648\n",
      "Epoch 10/10\n",
      "13/13 [==============================] - 0s 8ms/step - loss: 6831.3325 - mae: 6831.3325 - val_loss: 11043.1348 - val_mae: 11043.1348\n"
     ]
    },
    {
     "data": {
      "text/plain": [
       "<keras.src.callbacks.History at 0x27ed2e52190>"
      ]
     },
     "execution_count": 23,
     "metadata": {},
     "output_type": "execute_result"
    }
   ],
   "source": [
    "model.fit(x_train_trf,y_train,epochs=10,verbose=1,validation_split=0.2,batch_size=50)"
   ]
  },
  {
   "cell_type": "code",
   "execution_count": 24,
   "id": "3cacae03",
   "metadata": {},
   "outputs": [
    {
     "name": "stdout",
     "output_type": "stream",
     "text": [
      "7/7 [==============================] - 0s 3ms/step\n"
     ]
    }
   ],
   "source": [
    "y_pred=model.predict(x_test_trf)"
   ]
  },
  {
   "cell_type": "code",
   "execution_count": 25,
   "id": "ed4a14d0",
   "metadata": {},
   "outputs": [
    {
     "data": {
      "text/plain": [
       "array([[116383.195],\n",
       "       [ 10316.425],\n",
       "       [ 33343.79 ]], dtype=float32)"
      ]
     },
     "execution_count": 25,
     "metadata": {},
     "output_type": "execute_result"
    }
   ],
   "source": [
    "y_pred[:3]"
   ]
  },
  {
   "cell_type": "code",
   "execution_count": 26,
   "id": "e7dbd03e",
   "metadata": {},
   "outputs": [
    {
     "name": "stdout",
     "output_type": "stream",
     "text": [
      "7/7 [==============================] - 0s 3ms/step - loss: 7589.8877 - mae: 7589.8877\n"
     ]
    },
    {
     "data": {
      "text/plain": [
       "[7589.8876953125, 7589.8876953125]"
      ]
     },
     "execution_count": 26,
     "metadata": {},
     "output_type": "execute_result"
    }
   ],
   "source": [
    "model.evaluate(x_test_trf,y_test)"
   ]
  }
 ],
 "metadata": {
  "kernelspec": {
   "display_name": "Python 3 (ipykernel)",
   "language": "python",
   "name": "python3"
  },
  "language_info": {
   "codemirror_mode": {
    "name": "ipython",
    "version": 3
   },
   "file_extension": ".py",
   "mimetype": "text/x-python",
   "name": "python",
   "nbconvert_exporter": "python",
   "pygments_lexer": "ipython3",
   "version": "3.11.4"
  }
 },
 "nbformat": 4,
 "nbformat_minor": 5
}
